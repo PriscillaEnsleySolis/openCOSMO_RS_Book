{
 "cells": [
  {
   "cell_type": "markdown",
   "metadata": {},
   "source": [
    "# 5. Calling the openCOSMO-RS_conformer_pipeline program! 🤖"
   ]
  },
  {
   "cell_type": "markdown",
   "metadata": {},
   "source": [
    "<br>\n",
    "Explanation of the code:\n",
    "\n",
    "**`python ConformerGenerator.py --structures_file file.inp --cpcm_radii cpcm_radii.inp --n_cores 2`**\n",
    "\n",
    "- <span style=\"color:#CD5C5C;\">ConformerGenerator.py</span> is code to produce the files\n",
    "\n",
    "- <span style=\"color:#DB7093;\">file.inp</span> is the input file that we created earlier, the name can change. For our example it will be *water.inp*\n",
    "\n",
    "- <span style=\"color:#20B2AA;\">cpcm_radii.inp</span> specifies the radius size of the atoms\n",
    "\n",
    " - <span style=\"color:#B0C4DE;\">n_cores 2</span> specifies the number of CPU cores to be used for the execution of the script.\n",
    "\n"
   ]
  },
  {
   "cell_type": "markdown",
   "metadata": {},
   "source": [
    "## 5.1 Using the terminal 💻"
   ]
  },
  {
   "cell_type": "markdown",
   "metadata": {},
   "source": [
    "1.  Go to the terminal / command prompt in your computer and go to the directory where the repository is using the following command line:\n",
    "\n",
    "    cd\"<span style=\"color:SteelBlue\">C:\\Users\\xx\\xx\\openCOSMO-RS_conformer_pipeline</span>\"\n",
    "\n",
    "    *Remember to change the <span style=\"color:SteelBlue\">address</span> to the one where you have the program located* \n",
    "    <br><br>\n",
    "\n",
    "\n",
    "2. Call the program:\n",
    "\n",
    "    `python ConformerGenerator.py --structures_file file.inp --cpcm_radii cpcm_radii.inp --n_cores 2`\n",
    "\n",
    "    *Remember to change the name of our <span style=\"color:SteelBlue\">file.inp</span> to the one we saved, in this case let's use:* **water.inp** \n",
    "    <br><br>\n",
    "\n",
    "\n",
    "3. Click enter and you will see a series of steps where it explains that the program is running, at the end you should see the words *La fin*. That means that the program ran completely and there were no issues.\n",
    "\n"
   ]
  },
  {
   "cell_type": "markdown",
   "metadata": {},
   "source": [
    "## 5.1 Using Python 🤖"
   ]
  },
  {
   "cell_type": "code",
   "execution_count": null,
   "metadata": {},
   "outputs": [
    {
     "name": "stdout",
     "output_type": "stream",
     "text": [
      "CompletedProcess(args=['python', 'ConformerGenerator.py', '--structures_file', 'water.inp', '--cpcm_radii', 'cpcm_radii.inp', '--n_cores', '2'], returncode=0, stdout='start: water\\ngas calculation\\n- settings used: [number_of_conformers_generated: 50, rms_threshold: 1.0, rms_only_heavy_atoms: True]\\n- setup_initial_structure, n_confs: 1, time_spent: 0.05 s\\n- rdkit_generate_conformers, n_confs: 1, time_spent: 0.03 s\\n- sort_energy, n_confs: 1, time_spent: 0.00 s\\n- filter_by_energy_window, n_confs: 1, time_spent: 0.01 s\\n- filter_by_rms_window, n_confs: 1, time_spent: 0.11 s\\n- ORCA_DFT_FAST, n_confs: 1, time_spent: 6.44 s\\n- sort_energy, n_confs: 1, time_spent: 0.00 s\\n- filter, n_confs: 1, time_spent: 0.12 s\\n- ORCA_DFT_final, n_confs: 1, time_spent: 10.69 s\\nCPCM calculation\\n- setup_initial_structure, n_confs: 1, time_spent: 0.11 s\\n- orca_xtb2_alpb, n_confs: 1, time_spent: 0.94 s\\n- sort_energy, n_confs: 1, time_spent: 0.00 s\\n- filter_by_energy_window, n_confs: 1, time_spent: 0.00 s\\n- filter_by_rms_window, n_confs: 1, time_spent: 0.02 s\\n- sort_energy, n_confs: 1, time_spent: 0.00 s\\n- filter_by_maximum_number_of_conformers_to_keep, n_confs: 1, time_spent: 0.16 s\\n- ORCA_DFT_CPCM_fast, n_confs: 1, time_spent: 11.31 s\\n- filter_by_energy_window, n_confs: 1, time_spent: 0.00 s\\n- filter_by_rms_window, n_confs: 1, time_spent: 0.00 s\\n- sort_energy, n_confs: 1, time_spent: 0.02 s\\n- filter_by_maximum_number_of_conformers_to_keep, n_confs: 1, time_spent: 0.11 s\\n- ORCA_DFT_CPCM_final, n_confs: 1, time_spent: 12.05 s\\nend: water, time_spent: 44.08 s\\n\\n\\nLa fin\\n', stderr='')\n",
      "Output: start: water\n",
      "gas calculation\n",
      "- settings used: [number_of_conformers_generated: 50, rms_threshold: 1.0, rms_only_heavy_atoms: True]\n",
      "- setup_initial_structure, n_confs: 1, time_spent: 0.05 s\n",
      "- rdkit_generate_conformers, n_confs: 1, time_spent: 0.03 s\n",
      "- sort_energy, n_confs: 1, time_spent: 0.00 s\n",
      "- filter_by_energy_window, n_confs: 1, time_spent: 0.01 s\n",
      "- filter_by_rms_window, n_confs: 1, time_spent: 0.11 s\n",
      "- ORCA_DFT_FAST, n_confs: 1, time_spent: 6.44 s\n",
      "- sort_energy, n_confs: 1, time_spent: 0.00 s\n",
      "- filter, n_confs: 1, time_spent: 0.12 s\n",
      "- ORCA_DFT_final, n_confs: 1, time_spent: 10.69 s\n",
      "CPCM calculation\n",
      "- setup_initial_structure, n_confs: 1, time_spent: 0.11 s\n",
      "- orca_xtb2_alpb, n_confs: 1, time_spent: 0.94 s\n",
      "- sort_energy, n_confs: 1, time_spent: 0.00 s\n",
      "- filter_by_energy_window, n_confs: 1, time_spent: 0.00 s\n",
      "- filter_by_rms_window, n_confs: 1, time_spent: 0.02 s\n",
      "- sort_energy, n_confs: 1, time_spent: 0.00 s\n",
      "- filter_by_maximum_number_of_conformers_to_keep, n_confs: 1, time_spent: 0.16 s\n",
      "- ORCA_DFT_CPCM_fast, n_confs: 1, time_spent: 11.31 s\n",
      "- filter_by_energy_window, n_confs: 1, time_spent: 0.00 s\n",
      "- filter_by_rms_window, n_confs: 1, time_spent: 0.00 s\n",
      "- sort_energy, n_confs: 1, time_spent: 0.02 s\n",
      "- filter_by_maximum_number_of_conformers_to_keep, n_confs: 1, time_spent: 0.11 s\n",
      "- ORCA_DFT_CPCM_final, n_confs: 1, time_spent: 12.05 s\n",
      "end: water, time_spent: 44.08 s\n",
      "\n",
      "\n",
      "La fin\n",
      "\n"
     ]
    }
   ],
   "source": [
    "import subprocess\n",
    "import os\n",
    "\n",
    "# Change the current working directory where our ConformerGenerator program is as well as our input file! \n",
    "# ⚠️⚠️⚠️\n",
    "os.chdir(r\"C:\\Users\\prisc\\Desktop\\openCOSMO-RS_conformer_pipeline\")\n",
    "\n",
    "#Let's separate the code into sections\n",
    "command = [\n",
    "    \"python\", \n",
    "    \"ConformerGenerator.py\", \n",
    "    \"--structures_file\", \n",
    "    \"water.inp\", #here you can modify the name to any file you've created\n",
    "    \"--cpcm_radii\", \"cpcm_radii.inp\", \n",
    "    \"--n_cores\", \"2\"\n",
    "]\n",
    "\n",
    "# Execute the command\n",
    "result = subprocess.run(command, capture_output=True, text=True)\n",
    "\n",
    "# Print the output and errors\n",
    "print(result)\n",
    "print(\"Output:\", result.stdout)"
   ]
  },
  {
   "cell_type": "markdown",
   "metadata": {},
   "source": [
    "## 🛑 Things to consider 🛑\n",
    "\n",
    "<div style=\"line-height: 1.5;\">\n",
    "\n",
    "If you go to the repository, you will see a folder with the name of the molecule we created. **Before running the code again**, drag the file outside the folder and save it in another folder where all the .orcacosmo files are gonna be. I recommend doing this **also** for the **input files**, so we have everything in order. Afterwards, you can run the program again with the other input file we created:  two_molecules.inp\n",
    "<div>"
   ]
  }
 ],
 "metadata": {
  "kernelspec": {
   "display_name": "openCOSMO_RS",
   "language": "python",
   "name": "python3"
  },
  "language_info": {
   "codemirror_mode": {
    "name": "ipython",
    "version": 3
   },
   "file_extension": ".py",
   "mimetype": "text/x-python",
   "name": "python",
   "nbconvert_exporter": "python",
   "pygments_lexer": "ipython3",
   "version": "3.12.9"
  }
 },
 "nbformat": 4,
 "nbformat_minor": 2
}
