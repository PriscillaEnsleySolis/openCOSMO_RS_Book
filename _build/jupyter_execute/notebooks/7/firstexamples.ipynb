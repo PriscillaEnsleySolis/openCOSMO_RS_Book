{
 "cells": [
  {
   "cell_type": "markdown",
   "metadata": {},
   "source": [
    "# 2. First Examples 🔬"
   ]
  },
  {
   "cell_type": "markdown",
   "metadata": {},
   "source": [
    "## 2.1 Import all necessary libraries  📚"
   ]
  },
  {
   "cell_type": "code",
   "execution_count": 1,
   "metadata": {},
   "outputs": [],
   "source": [
    "#from the cosmo_visualizations code in our src folder\n",
    "from opencosmorspy.cosmo_visualizations import plot_sigma_profiles\n",
    "from opencosmorspy.cosmo_visualizations import plot_3D_segment_location\n",
    "from opencosmorspy.cosmo_visualizations import plot_extended_sigma_profile_plotly\n",
    "from opencosmorspy.cosmo_visualizations import plot_sigma_profiles_plotly\n",
    "\n",
    "#from the cosmors code in our src folder\n",
    "from opencosmorspy.cosmors import COSMORS \n",
    "\n",
    "#from the input_parsers code in our src folder\n",
    "from opencosmorspy.input_parsers import SigmaProfileParser\n",
    "\n",
    "#from the parameterization code in our src folder\n",
    "from opencosmorspy.parameterization import Parameterization\n",
    "from opencosmorspy.parameterization import openCOSMORS24a\n",
    "\n",
    "#other libraries:\n",
    "import matplotlib.pyplot as plt\n",
    "import numpy as np\n",
    "import pandas as pd\n",
    "import plotly\n",
    "import os\n",
    "from matplotlib import pyplot as plt\n",
    "import scipy.constants as spcon\n",
    "from tabulate import tabulate\n",
    "import kaleido\n",
    "from scipy.optimize import fsolve\n",
    "from rdkit import Chem\n",
    "periodic_table = Chem.GetPeriodicTable()\n",
    "from scipy import constants"
   ]
  },
  {
   "cell_type": "markdown",
   "metadata": {},
   "source": [
    "## 2.2 Define the paths to our .orcacosmo files and set the output directory 📒"
   ]
  },
  {
   "cell_type": "markdown",
   "metadata": {},
   "source": [
    "We are going to be using the <span style=\"color:#1E90FF;\">water.inp</span> file as well as <span style=\"color:#FF8C00;\">butane.inp</span> file. Run the section where we created the input files but now change the file name to **two_molecules.inp**. <br>\n",
    "Aftwards you should see two more folders: pentane and butane."
   ]
  },
  {
   "cell_type": "markdown",
   "metadata": {},
   "source": [
    "**Remember** that for every line that you have the following symbols: ⚠️⚠️⚠️ you need to specify the correct address in your computer"
   ]
  },
  {
   "cell_type": "code",
   "execution_count": 2,
   "metadata": {},
   "outputs": [],
   "source": [
    "#Let's now create the folder where we are going to save all of our results\n",
    "# ⚠️⚠️⚠️\n",
    "output_dir = r\"C:\\Users\\prisc\\Desktop\\Results_openCOSMO\"\n",
    "os.chdir(output_dir)"
   ]
  },
  {
   "cell_type": "code",
   "execution_count": 3,
   "metadata": {},
   "outputs": [],
   "source": [
    "#then create the folder where our files are gonna be, for this line to work we need to make sure that the folder does not exist!\n",
    "\n",
    "#os.makedirs(output_dir)"
   ]
  },
  {
   "cell_type": "markdown",
   "metadata": {},
   "source": [
    "Add the input files of our molecules"
   ]
  },
  {
   "cell_type": "code",
   "execution_count": 4,
   "metadata": {},
   "outputs": [],
   "source": [
    "#input files⚠️⚠️⚠️\n",
    "water_input = r\"C:\\Users\\prisc\\Desktop\\orcacosmo_files\\water\\COSMO_TZVPD\\water_c000.orcacosmo\"\n",
    "butane_input = r\"C:\\Users\\prisc\\Desktop\\orcacosmo_files\\butane\\COSMO_TZVPD\\butane_c000.orcacosmo\"\n",
    "pentane_input = r\"C:\\Users\\prisc\\Desktop\\orcacosmo_files\\pentane\\COSMO_TZVPD\\pentane_c000.orcacosmo\""
   ]
  },
  {
   "cell_type": "markdown",
   "metadata": {},
   "source": [
    "## 2.3 Choose a parameterization and call the model ⚙️"
   ]
  },
  {
   "cell_type": "markdown",
   "metadata": {},
   "source": [
    "You can choose between **default_turbomole** or **default_orca**. This refers to the computational chemistry software packages Turbomole and ORCA.\n",
    "\n",
    "- Turbomole: it is designed for parallel computing, (type of computation where many calculations or processes are carried out simultaneously) making it suitable for high performance computing systems.\n",
    "\n",
    "- ORCA: it achieves a good balance between accuracy and computational cost, with efficient algorithms for both small and large systems."
   ]
  },
  {
   "cell_type": "code",
   "execution_count": 5,
   "metadata": {},
   "outputs": [],
   "source": [
    "# Initialize parameterization for ORCA\n",
    "par = Parameterization('default_orca')\n",
    "\n",
    "#Add the model - this variable is what we are going to use to call our functions later, so pick one that is simple and easy to remember\n",
    "model = COSMORS(par)"
   ]
  },
  {
   "cell_type": "markdown",
   "metadata": {},
   "source": [
    "## 2.4 Let's start with the first calculations using openCOSMO 🧪"
   ]
  },
  {
   "cell_type": "code",
   "execution_count": 6,
   "metadata": {},
   "outputs": [],
   "source": [
    "#Use the function calculate_contact_statistics_molecule_properties from the cosmo-rs code\n",
    "model.par.calculate_contact_statistics_molecule_properties = True\n",
    "\n",
    "# Optional👀 but we can save as txt file the parameterization details to see\n",
    "txt_par = os.path.join(output_dir, 'par.txt')\n",
    "with open(txt_par, 'w') as txt_file:\n",
    "    for key, value in vars(model.par).items():\n",
    "        txt_file.write(f\"{key} : {value}\\n\")\n",
    "\n",
    "#print(model.par)"
   ]
  },
  {
   "cell_type": "code",
   "execution_count": 7,
   "metadata": {},
   "outputs": [],
   "source": [
    "# First, clear all previous jobs and molecules (since this is our first time using the model, this step is not necessary)\n",
    "model.clear_jobs()\n",
    "model.clear_molecules()\n",
    "\n",
    "#Add the new molecules to the model\n",
    "model.add_molecule([butane_input]) #molecule number 1\n",
    "model.add_molecule([water_input]) #molecule number 2\n",
    "\n",
    "\n",
    "#Add the mole fractions\n",
    "#This is the mole fraction array for the mixture we are analyzing, the first number corresponds to butane and the second one to water\n",
    "mole_fractions  = np.array([0.0, 1]) \n",
    "\n",
    "#set the temperature in K\n",
    "T = 298.15"
   ]
  },
  {
   "cell_type": "markdown",
   "metadata": {},
   "source": [
    "<div style=\"line-height: 1.5;\">\n",
    "\n",
    "Now we can perform the job, the formula for it is: <br>\n",
    "\n",
    "**model.add_job(mole_fractions, temperature, refst)**\n",
    "<br>\n",
    "\n",
    "The **refst** is the reference state. This property is used to calculate the chemical potential, which describes the difference between the mixture and the reference state. Remember that the formula for the potential energy is: \n",
    "\n",
    "$E=mgh$. \n",
    "\n",
    "We can think of the $h$ as our starting point, i.e. the refst. \n",
    "\n",
    "<img src=\"refst.png\" alt=\"reference_state\" width=\"550\"/>\n",
    "\n",
    "1. **<span style=\"color:#FF6347;\">'pure component'</span>**: use it when we want to understand the behavior of each component relative to its *pure state*. Useful for calculating properties like infinite dilution activity coefficients or comparing mixture behavior to pure substances\n",
    "\n",
    "2. **<span style=\"color:#1E90FF;\">'reference_mixture'</span>**: use it when we have a specific mixture to study the deviations from it\n",
    "\n",
    "3. **<span style=\"color:#32CD32;\">'COSMO'</span>**: use it when we want to calculate properties \"without\" reference state. This state is used to calculate solvation energies\n",
    "<div>\n",
    "\n"
   ]
  },
  {
   "cell_type": "code",
   "execution_count": 8,
   "metadata": {},
   "outputs": [
    {
     "name": "stdout",
     "output_type": "stream",
     "text": [
      "Total logarithmic activity coefficient using pure_component:  [[9.51404423 0.        ]]\n",
      "Residual logarithmic activity coefficient using pure_component:  [[10.29435427  0.        ]]\n",
      "Combinatorial logarithmic activity coefficient using pure_component: [[-0.78031005  0.        ]]\n"
     ]
    }
   ],
   "source": [
    "#add the job as 'pure_component'\n",
    "refst=\"pure_component\"\n",
    "model.add_job(mole_fractions, T, refst)\n",
    "\n",
    "# Perform calculations\n",
    "results_PC = model.calculate()\n",
    "\n",
    "print('Total logarithmic activity coefficient using pure_component: ', results_PC['tot']['lng'])\n",
    "print('Residual logarithmic activity coefficient using pure_component: ', results_PC['enth']['lng'])\n",
    "print('Combinatorial logarithmic activity coefficient using pure_component:', results_PC['comb']['lng'])\n",
    "\n",
    "\n",
    "#Optional👀 Save the results as a txt file\n",
    "cosmors_results_output_path = os.path.join(output_dir, 'cosmors_results_water_butane.txt')\n",
    "\n",
    "with open(cosmors_results_output_path, 'w') as txt_file:\n",
    "    txt_file.write(\"COSMORS Results\\n\")\n",
    "    txt_file.write(\"================\\n\")\n",
    "    \n",
    "    # Mole fractions\n",
    "    txt_file.write(\"Mole Fractions (x):\\n\")\n",
    "    txt_file.write(f\"{results_PC['x']}\\n\\n\")\n",
    "    \n",
    "    # Temperature\n",
    "    txt_file.write(\"Temperature (T):\\n\")\n",
    "    txt_file.write(f\"{results_PC['T']}\\n\\n\")\n",
    "    \n",
    "    # Total Results\n",
    "    txt_file.write(\"Total Results (tot):\\n\")\n",
    "    for key, value in results_PC['tot'].items():\n",
    "        txt_file.write(f\"{key}: {value}\\n\")\n",
    "    txt_file.write(\"\\n\")\n",
    "    \n",
    "    # Enthalpic Results\n",
    "    txt_file.write(\"Enthalpic Results (enth):\\n\")\n",
    "    for key, value in results_PC['enth'].items():\n",
    "        txt_file.write(f\"{key}: {value}\\n\")\n",
    "    txt_file.write(\"\\n\")\n",
    "    \n",
    "    # Combinatorial Results\n",
    "    txt_file.write(\"Combinatorial Results (comb):\\n\")\n",
    "    for key, value in results_PC['comb'].items():\n",
    "        txt_file.write(f\"{key}: {value}\\n\")\n"
   ]
  },
  {
   "cell_type": "markdown",
   "metadata": {},
   "source": [
    "<div style=\"line-height: 1.5;\">\n",
    "\n",
    "Since we used **<span style=\"color:#FF6347;\">'pure component'</span>** as a reference state and the mol fractions are [0,1] means that the Total logarithmic activity coefficient is actually the **<span style=\"color:#FF69B4;\">Infinite dilution activity coefficient</span>** of butane in water at the given temperature.\n",
    "<div>"
   ]
  },
  {
   "cell_type": "markdown",
   "metadata": {},
   "source": [
    "Let's try with **<span style=\"color:#1E90FF;\">'reference_mixture'</span>** and **<span style=\"color:#32CD32;\">'COSMO'</span>** as reference state:"
   ]
  },
  {
   "cell_type": "markdown",
   "metadata": {},
   "source": [
    "In this second example we are using  **<span style=\"color:#1E90FF;\">'reference_mixture'</span>** as refst. For the first component we are calculating $\\gamma^\\infty.$ for the refst is at **0**, i.e. infinitely diluted. For the second component we are calculating $\\gamma$"
   ]
  },
  {
   "cell_type": "code",
   "execution_count": 9,
   "metadata": {},
   "outputs": [
    {
     "name": "stdout",
     "output_type": "stream",
     "text": [
      "Total logarithmic activity coefficient using reference_mixture:  [[-7.59753365  1.26694064]]\n",
      "Residual logarithmic activity coefficient using reference_mixture:  [[-8.23177142  1.39386759]]\n",
      "Combinatorial logarithmic activity coefficient using reference_mixture: [[ 0.63423777 -0.12692695]]\n"
     ]
    }
   ],
   "source": [
    "model.clear_jobs()\n",
    "model.clear_molecules()\n",
    "\n",
    "# add the job as 'reference_mixture'\n",
    "refst=\"reference_mixture\"\n",
    "\n",
    "#add molecules:\n",
    "model.add_molecule([butane_input]) #molecule number 1\n",
    "model.add_molecule([water_input]) #molecule number 2\n",
    "\n",
    "\n",
    "mole_fractions = np.array([0.4, 0.6]) \n",
    "\n",
    "#This is the mole fraction array for the reference mixture AGAINST which we want to compare the job mixture. \n",
    "#if we put the same fractions for the x_refst and the mole_fractions, the result will be zero \n",
    "# - as we are comparing with the same reference state)\n",
    "x_refst=np.array([0, 1]) \n",
    "\n",
    "model.add_job(mole_fractions, T, refst, x_refst)\n",
    "\n",
    "\n",
    "# Perform calculations\n",
    "results_RM = model.calculate()\n",
    "\n",
    "#Print the results\n",
    "print('Total logarithmic activity coefficient using reference_mixture: ', results_RM['tot']['lng'])\n",
    "print('Residual logarithmic activity coefficient using reference_mixture: ', results_RM['enth']['lng'])\n",
    "print('Combinatorial logarithmic activity coefficient using reference_mixture:', results_RM['comb']['lng'])\n"
   ]
  },
  {
   "cell_type": "code",
   "execution_count": 10,
   "metadata": {},
   "outputs": [
    {
     "name": "stdout",
     "output_type": "stream",
     "text": [
      "Total logarithmic activity coefficient using cosmo:  [[ 2.45646935 -0.93100187]]\n",
      "Residual logarithmic activity coefficient using cosmo:  [[ 2.63485277 -0.76204584]]\n",
      "Combinatorial logarithmic activity coefficient using cosmo: [[-0.17838341 -0.16895603]]\n"
     ]
    }
   ],
   "source": [
    "model.clear_jobs()\n",
    "model.clear_molecules()\n",
    "\n",
    "#add the job as 'COSMO'\n",
    "refst='cosmo'\n",
    "\n",
    "#add molecules, this time with pentane\n",
    "model.add_molecule([pentane_input]) #molecule number 1\n",
    "model.add_molecule([water_input]) #molecule number 2\n",
    "\n",
    "model.add_job(mole_fractions, T, refst)\n",
    "# Perform calculations\n",
    "results_CO = model.calculate()\n",
    "print('Total logarithmic activity coefficient using cosmo: ', results_CO['tot']['lng'])\n",
    "print('Residual logarithmic activity coefficient using cosmo: ', results_CO['enth']['lng'])\n",
    "print('Combinatorial logarithmic activity coefficient using cosmo:', results_CO['comb']['lng'])"
   ]
  },
  {
   "cell_type": "markdown",
   "metadata": {},
   "source": [
    "## Multiple calculations:"
   ]
  },
  {
   "cell_type": "markdown",
   "metadata": {},
   "source": [
    "<div style=\"line-height: 1.5;\">\n",
    "\n",
    "If we have more molecules that we want to calculate the $\\gamma^\\infty.$, we include them all in the array. What the code does is a single calculation for the whole mixture, and then calculates the $\\gamma^\\infty$ for each single component in our array. For 4 components plus our solvent it would look something like the image below, performing 6 calculations in total\n",
    "\n",
    "![multiple](mulitple_calc.png)\n",
    "\n",
    "<br><br><br>\n",
    "\n",
    "It is computationally more effective than to do a *for loop* because we would have to perform additional calculations:\n",
    "\n",
    "<br><br>\n",
    "\n",
    "![forloop](forloop.png)\n",
    "\n",
    "\n"
   ]
  },
  {
   "cell_type": "code",
   "execution_count": 11,
   "metadata": {},
   "outputs": [
    {
     "name": "stdout",
     "output_type": "stream",
     "text": [
      "Total logarithmic activity coefficient using cosmo:  [[9.51404423 9.72489802 7.87271231 9.41188882 0.        ]]\n"
     ]
    }
   ],
   "source": [
    "#example with the molecules of butane, cyclopentane, benzene and toluene in water, lets add the remaining ones:\n",
    "cp_input = r\"C:\\Users\\prisc\\Desktop\\orcacosmo_files\\cyclopentane\\COSMO_TZVPD\\cyclopentane_c000.orcacosmo\"\n",
    "bz_input =  r\"C:\\Users\\prisc\\Desktop\\orcacosmo_files\\benzene\\COSMO_TZVPD\\benzene_c000.orcacosmo\"\n",
    "tol_input = r\"C:\\Users\\prisc\\Desktop\\orcacosmo_files\\toluene\\COSMO_TZVPD\\toluene_c000.orcacosmo\"\n",
    "\n",
    "\n",
    "model.clear_molecules()\n",
    "model.clear_jobs()\n",
    "\n",
    "\n",
    "#Add the new molecules to the model\n",
    "model.add_molecule([butane_input]) #molecule number 1\n",
    "model.add_molecule([cp_input]) #molecule number 2\n",
    "model.add_molecule([bz_input]) #3\n",
    "model.add_molecule([tol_input]) #4\n",
    "model.add_molecule([water_input]) #5\n",
    "\n",
    "\n",
    "#Add the mole fractions\n",
    "mole_fractions  = np.array([0, 0, 0, 0, 1]) \n",
    "\n",
    "#set the temperature in K\n",
    "T = 298.15\n",
    "\n",
    "#refst and call model\n",
    "refst='pure_component'\n",
    "model.add_job(mole_fractions, T, refst)\n",
    "\n",
    "results_multiple = model.calculate()\n",
    "\n",
    "print('Total logarithmic activity coefficient using cosmo: ', results_multiple['tot']['lng'])"
   ]
  },
  {
   "cell_type": "markdown",
   "metadata": {},
   "source": [
    "<div style=\"line-height: 1.5;\">\n",
    "\n",
    "We have in total **5** $\\gamma^\\infty.$ \n",
    "\n",
    "- If we were to perform only butane and water: <br>\n",
    "    - Total logarithmic activity coefficient using cosmo:  **[[9.51404423 , 0.]]**\n",
    "\n",
    "- With butane, cyclopentane, benzene, toluene and water: <br>\n",
    "    - Total logarithmic activity coefficient using cosmo:  **[[9.51404423 , 9.72489802 , 7.87271231 , 9.41188882 , 0. ]]**\n",
    "<br>\n",
    "<div>"
   ]
  },
  {
   "cell_type": "markdown",
   "metadata": {},
   "source": [
    "# 2.5 Plotting 📈"
   ]
  },
  {
   "cell_type": "markdown",
   "metadata": {},
   "source": [
    "The **cosmo_visualizations.py** in the src folder contains various functions that helps us vizualize the \"σ-profile\" of our molecule."
   ]
  },
  {
   "cell_type": "markdown",
   "metadata": {},
   "source": [
    "For the **<span style=\"color:#32CD32;\">plot_sigma_profiles</span>** functions, we can use multiple files as input to plot them in the same graph and compare them:"
   ]
  },
  {
   "cell_type": "code",
   "execution_count": 12,
   "metadata": {},
   "outputs": [
    {
     "data": {
      "image/png": "[encoded data removed]",
      "text/plain": [
       "<Figure size 1200x600 with 1 Axes>"
      ]
     },
     "metadata": {},
     "output_type": "display_data"
    }
   ],
   "source": [
    "#for our water molecule:\n",
    "plot_sigma_profiles(\n",
    "    filepath_lst=[water_input, butane_input, pentane_input],\n",
    "    plot_name='my_sigma_plot',\n",
    "    xlim=(-0.02, 0.02),\n",
    "    dir_plot=output_dir,\n",
    "    aggregate_plots=False  # Use the correct parameter name\n",
    ")"
   ]
  },
  {
   "cell_type": "code",
   "execution_count": 13,
   "metadata": {},
   "outputs": [],
   "source": [
    "plot_3D_segment_location(water_input)"
   ]
  },
  {
   "cell_type": "markdown",
   "metadata": {},
   "source": [
    "## 2.5.1 Sigma profiles using plotly"
   ]
  },
  {
   "cell_type": "markdown",
   "metadata": {},
   "source": [
    "For the following functions a **pop-up window** will appear with the graph and several *\"extsp_molecule name\"* files will be saved in our output folder we specified:"
   ]
  },
  {
   "cell_type": "code",
   "execution_count": 14,
   "metadata": {},
   "outputs": [],
   "source": [
    "#this function will open up a \n",
    "plot_sigma_profiles_plotly(filepath_lst=[water_input]) #you can add more than one orcacosmo file in here with ,"
   ]
  },
  {
   "cell_type": "code",
   "execution_count": 15,
   "metadata": {},
   "outputs": [],
   "source": [
    "plot_extended_sigma_profile_plotly(butane_input)"
   ]
  },
  {
   "cell_type": "markdown",
   "metadata": {},
   "source": [
    "# 2.6 Further examples:"
   ]
  },
  {
   "cell_type": "code",
   "execution_count": 16,
   "metadata": {},
   "outputs": [
    {
     "name": "stdout",
     "output_type": "stream",
     "text": [
      "Current Directory: c:\\Users\\prisc\\Desktop\\openCOSMO-RS_py\\examples\n"
     ]
    }
   ],
   "source": [
    "# We need to change to the openCOSMO-RS directory, ⚠️⚠️⚠️\n",
    "new_directory = r'c:\\Users\\prisc\\Desktop\\openCOSMO-RS_py\\examples'\n",
    "\n",
    "# Change the current working directory\n",
    "os.chdir(new_directory)\n",
    "\n",
    "# Verify the change\n",
    "print(\"Current Directory:\", os.getcwd())"
   ]
  },
  {
   "cell_type": "markdown",
   "metadata": {},
   "source": [
    "Using the new openCOSMO-RS 24a parameter set:"
   ]
  },
  {
   "cell_type": "code",
   "execution_count": 17,
   "metadata": {},
   "outputs": [
    {
     "name": "stdout",
     "output_type": "stream",
     "text": [
      "Total logarithmic activity coefficient:  [[2.2587486  0.        ]\n",
      " [2.24015471 0.        ]\n",
      " [0.16659988 0.44666041]] \n",
      "\n",
      "Residual logarithmic activity coefficient:  [[2.57913503 0.        ]\n",
      " [2.56054114 0.        ]\n",
      " [0.21602009 0.52331749]]\n",
      "Combinatorial logarithmic activity coefficient: [[-0.32038643  0.        ]\n",
      " [-0.32038643  0.        ]\n",
      " [-0.04942021 -0.07665708]]\n"
     ]
    },
    {
     "data": {
      "image/png": "[encoded data removed]",
      "text/plain": [
       "<Figure size 640x480 with 1 Axes>"
      ]
     },
     "metadata": {},
     "output_type": "display_data"
    },
    {
     "name": "stdout",
     "output_type": "stream",
     "text": [
      "Descriptors for ethanol\n",
      "energy_dielectric -25.10678663745665\n",
      "dipole_moment [-0.047311 -2.168231 -0.003471]\n",
      "area 89.54018440890813\n",
      "volume 68.36642744911612\n",
      "sigma_moments [ 8.95401844e+01 -3.52331248e-04  4.47498246e+01  1.76274455e+01\n",
      "  8.17963923e+01  4.88916504e+01  1.85772219e+02]\n",
      "sigma_hydrogen_bond_donor_moments [2.30820891 1.18997386 0.38293059]\n",
      "sigma_hydrogen_bond_acceptor_moments [4.83881932 2.87393992 1.31282655]\n",
      "-----------------------------------------------\n"
     ]
    },
    {
     "data": {
      "image/png": "[encoded data removed]",
      "text/plain": [
       "<Figure size 640x480 with 1 Axes>"
      ]
     },
     "metadata": {},
     "output_type": "display_data"
    },
    {
     "name": "stdout",
     "output_type": "stream",
     "text": [
      "Descriptors for water\n",
      "energy_dielectric -32.88772262001589\n",
      "dipole_moment [ 4.500000e-05 -2.302853e+00  0.000000e+00]\n",
      "area 42.89774598167642\n",
      "volume 25.365505135002042\n",
      "sigma_moments [4.28977460e+01 7.93007980e-05 6.06141519e+01 3.87999923e+00\n",
      " 1.20676657e+02 1.77642596e+01 2.67165157e+02]\n",
      "sigma_hydrogen_bond_donor_moments [5.13359864 2.61757537 0.86837383]\n",
      "sigma_hydrogen_bond_acceptor_moments [5.77724896 3.3268231  1.38458782]\n",
      "-----------------------------------------------\n"
     ]
    }
   ],
   "source": [
    "%matplotlib inline\n",
    "crs = COSMORS(par=openCOSMORS24a())\n",
    "\n",
    "crs.add_molecule(['./../tests/COSMO_ORCA/ethanol.orcacosmo'])\n",
    "crs.add_molecule(['./../tests/COSMO_ORCA/water.orcacosmo'])\n",
    "\n",
    "# infinite dilution activity coefficient of ethanol in water at 25 C\n",
    "x = np.array([0.0, 1.0])\n",
    "T = 298\n",
    "crs.add_job(x, T, refst='pure_component')\n",
    "\n",
    "# infinite dilution activity coefficient of ethanol in water at 45 C\n",
    "x = np.array([0.0, 1.0])\n",
    "T = 318\n",
    "crs.add_job(x, T, refst='pure_component')\n",
    "\n",
    "# 50:50 mole fraction based mixture of ethanol and water\n",
    "x = np.array([0.5, .5])\n",
    "T = 298.15\n",
    "crs.add_job(x, T, refst='pure_component')\n",
    "\n",
    "results = crs.calculate()\n",
    "\n",
    "print('Total logarithmic activity coefficient: ', results['tot']['lng'], '\\n')\n",
    "\n",
    "print('Residual logarithmic activity coefficient: ', results['enth']['lng'])\n",
    "print('Combinatorial logarithmic activity coefficient:', results['comb']['lng'])\n",
    "\n",
    "sigma_profile_data = {}\n",
    "sigma_profile_moments = {}\n",
    "\n",
    "for molecule in crs.enth.mol_lst:\n",
    "    molecule_filepath = molecule.cosmo_struct_lst[0].filepath\n",
    "    molecule_name = molecule.cosmo_struct_lst[0].filename.replace('.orcacosmo', '')\n",
    "    spp = SigmaProfileParser(molecule_filepath)\n",
    "    sigmas, areas = spp.cluster_and_create_sigma_profile()\n",
    "    sigma_profile_data[molecule_name] = {'Sigma': sigmas, 'Area': areas}\n",
    "\n",
    "    plt.title(molecule_name)\n",
    "    plt.plot(sigmas, areas)\n",
    "    plt.xlim([-0.03, 0.03])\n",
    "    plt.show()\n",
    "\n",
    "    spp.calculate_sigma_moments()\n",
    "    print(f'Descriptors for {molecule_name}')\n",
    "    for property_name in ['energy_dielectric', 'dipole_moment', 'area', 'volume', 'sigma_moments']:\n",
    "        print(property_name, spp[property_name])\n",
    "    print('sigma_hydrogen_bond_donor_moments', spp['sigma_hydrogen_bond_donor_moments'][2:5])\n",
    "    print('sigma_hydrogen_bond_acceptor_moments', spp['sigma_hydrogen_bond_acceptor_moments'][2:5])\n",
    "\n",
    "    \n",
    "    sigma_profile_moments[molecule_name] = {'sigma_moments': spp['sigma_moments'], 'hb_donor_moment': spp['sigma_hydrogen_bond_donor_moments'][2:5], 'hb_acceptor_moment': spp['sigma_hydrogen_bond_acceptor_moments'][2:5]}\n",
    "\n",
    "    print('-----------------------------------------------')\n",
    "\n",
    "\n",
    "# output to excel\n",
    "results_data = {}\n",
    "results_data[f'Temperature (K)'] = []\n",
    "\n",
    "n_molecules = len(crs.enth.mol_lst)\n",
    "for i_molecule in range(n_molecules):    \n",
    "    results_data[f'Concentration_{i_molecule+1}'] = []\n",
    "    results_data[f'ln_Gamma_total_{i_molecule+1}'] = []\n",
    "\n",
    "for i_job in range(len(results['x'])):\n",
    "    results_data['Temperature (K)'].append(results['T'][i_job])\n",
    "    for i_molecule in range(n_molecules):\n",
    "        results_data[f'Concentration_{i_molecule+1}'].append(results['x'][i_job][i_molecule])\n",
    "    for i_molecule in range(n_molecules):\n",
    "        results_data[f'ln_Gamma_total_{i_molecule+1}'].append(results['tot']['lng'][i_job][i_molecule])\n",
    "\n",
    "with pd.ExcelWriter('cosmors_results.xlsx', engine='openpyxl') as writer:\n",
    "    # First sheet: Sigma profiles\n",
    "    sigma_profiles_df = pd.DataFrame()\n",
    "    for name, data in sigma_profile_data.items():\n",
    "        df = pd.DataFrame({f'{name}_Sigma': data['Sigma'], f'{name}_Area': data['Area']})\n",
    "        sigma_profiles_df = pd.concat([sigma_profiles_df, df], axis=1)\n",
    "    sigma_profiles_df.to_excel(writer, sheet_name='Sigma Profiles', index=False)\n",
    "\n",
    "    # Second sheet: Sigma moments\n",
    "    sigma_moments_data = {'Molecule': [], \n",
    "                          'Sigma Moment 0': [], 'Sigma Moment 1': [], 'Sigma Moment 2': [],\n",
    "                          'Sigma Moment 3': [], 'Sigma Moment 4': [], 'Sigma Moment 5': [], 'Sigma Moment 6': [],\n",
    "                          'HB Donor Moment 2': [], 'HB Donor Moment 3': [], 'HB Donor Moment 4': [],\n",
    "                          'HB Acceptor Moment 2': [], 'HB Acceptor Moment 3': [], 'HB Acceptor Moment 4': []}\n",
    "    \n",
    "    \n",
    "    for name, moments in sigma_profile_moments.items():\n",
    "        sigma_moments_data['Molecule'].append(name)\n",
    "        [sigma_moments_data[f'Sigma Moment {i_moment}'].append(moments['sigma_moments'][i_moment]) for i_moment in range(7)]\n",
    "        [sigma_moments_data[f'HB Donor Moment {i_moment + 2}'].append(moments['hb_donor_moment'][i_moment]) for i_moment in range(3)]\n",
    "        [sigma_moments_data[f'HB Acceptor Moment {i_moment + 2}'].append(moments['hb_acceptor_moment'][i_moment]) for i_moment in range(3)]\n",
    "\n",
    "    sigma_moments_df = pd.DataFrame(sigma_moments_data)\n",
    "    sigma_moments_df.to_excel(writer, sheet_name='Sigma Moments', index=False)\n",
    "\n",
    "    # Third sheet: Calculation results\n",
    "    results_df = pd.DataFrame(results_data)\n",
    "    results_df.to_excel(writer, sheet_name='Results', index=False)"
   ]
  },
  {
   "cell_type": "markdown",
   "metadata": {},
   "source": [
    "This function calculates how well acetaminophen (paracetamol) dissolves in different solvents:"
   ]
  },
  {
   "cell_type": "code",
   "execution_count": 18,
   "metadata": {},
   "outputs": [
    {
     "name": "stdout",
     "output_type": "stream",
     "text": [
      "Solubility of acetaminophen/paracetamol in\n"
     ]
    },
    {
     "name": "stdout",
     "output_type": "stream",
     "text": [
      "water           non-iter calc: 0.00068 iter calc: 0.00012 exp: 0.00207\n"
     ]
    },
    {
     "name": "stdout",
     "output_type": "stream",
     "text": [
      "ethanol         non-iter calc: 0.09563 iter calc: 0.06122 exp: 0.06624\n"
     ]
    },
    {
     "name": "stdout",
     "output_type": "stream",
     "text": [
      "acetic_acid     non-iter calc: 0.06210 iter calc: 0.04727 exp: 0.03182\n"
     ]
    },
    {
     "name": "stdout",
     "output_type": "stream",
     "text": [
      "cyclohexane     non-iter calc: 0.00000 iter calc: 0.00000 exp: N/A\n"
     ]
    }
   ],
   "source": [
    "\n",
    "# Add molecules\n",
    "solute_file = './../tests/COSMO_ORCA/acetaminophen.orcacosmo' # Replace with actual solute file\n",
    "crs = COSMORS(par='default_orca')\n",
    "\n",
    "# Constants\n",
    "R = 8.314  # Gas constant, J/(mol·K)\n",
    "delta_h_fusion = 27.1 * 1000  # Fusion enthalpy of the solute (J/mol)\n",
    "t_fusion = 443.6 # Fusion temperature of the solute (K)\n",
    "temperature = 298.15  # Temperature for the solubility calculation (K)\n",
    "\n",
    "def calc_solubility(crs, delta_h_fusion, t_fusion, temperature, iterative=False):\n",
    "    rhs = -delta_h_fusion / R * (1 / temperature - 1 / t_fusion)\n",
    "\n",
    "    def calculate_gamma(x):\n",
    "        crs.clear_jobs()\n",
    "        crs.add_job(x, temperature, refst='pure_component')\n",
    "        results = crs.calculate()\n",
    "        return results['tot']['lng'][0][0]\n",
    "\n",
    "    if not iterative:\n",
    "        ln_gamma_inf = calculate_gamma(np.array([0.0, 1.0])) \n",
    "        return np.exp(rhs) / np.exp(ln_gamma_inf)\n",
    "    \n",
    "    def equilibrium_condition(x_guess):\n",
    "        x_guess = max(1e-15, x_guess)\n",
    "        x_guess = min(1, x_guess)\n",
    "        x = np.array([x_guess, 1 - x_guess])\n",
    "        ln_gamma = calculate_gamma(x)\n",
    "        diff = np.abs(ln_gamma + np.log(x_guess) - rhs)\n",
    "        return diff\n",
    "\n",
    "    result = fsolve(equilibrium_condition, 1e-5)\n",
    "    \n",
    "    x = max(1e-15, result[0])\n",
    "    x = min(1, x)\n",
    "    return x\n",
    "\n",
    "# exp data from: https://doi.org/10.1021/je990124v\n",
    "exp_data = {\n",
    "    'water': 0.002068248,\n",
    "    'ethanol': 0.066236658,\n",
    "    'acetic_acid': 0.031816953,\n",
    "    'cyclohexane': 'N/A'\n",
    "}\n",
    "try:\n",
    "    print(f'Solubility of acetaminophen/paracetamol in')\n",
    "    for solvent_file in ['./../tests/COSMO_ORCA/water.orcacosmo',\n",
    "                         './../tests/COSMO_ORCA/ethanol.orcacosmo',\n",
    "                         './../tests/COSMO_ORCA/acetic_acid.orcacosmo',\n",
    "                         './../tests/COSMO_ORCA/cyclohexane.orcacosmo']:\n",
    "        \n",
    "        solvent_name = os.path.basename(solvent_file).replace('.orcacosmo', '')\n",
    "        crs.clear_molecules()\n",
    "        crs.add_molecule([solute_file])\n",
    "        crs.add_molecule([solvent_file])\n",
    "        x_solubility_non_iterative = calc_solubility(crs, delta_h_fusion, t_fusion, temperature, iterative=False)\n",
    "\n",
    "        x_solubility_iterative = calc_solubility(crs, delta_h_fusion, t_fusion, temperature, iterative=True)\n",
    "        exp_val = f'{exp_data[solvent_name]:.5f}' if exp_data[solvent_name] != 'N/A' else exp_data[solvent_name]\n",
    "        print(solvent_name.ljust(15), f\"non-iter calc: {x_solubility_non_iterative:.5f}\", f\"iter calc: {x_solubility_iterative:.5f}\", f\"exp: {exp_val}\")\n",
    "\n",
    "except Exception as e:\n",
    "    print(f\"Error in solubility calculation: {e}\")\n",
    "    print(\"Potential reasons for failure:\")\n",
    "    print(\"1. Activity coefficients calculated by COSMO-RS could be unrealistic at extreme compositions.\")\n",
    "    print(\"2. The thermodynamic parameters (e.g., delta_h_fusion or t_fusion) might be inaccurate.\")\n",
    "    print(\"3. Issues with the openCOSMO-RS input files or parameterization might affect calculations.\")"
   ]
  },
  {
   "cell_type": "markdown",
   "metadata": {},
   "source": [
    "To calculate the **solvation free energy** using the new parameterization:"
   ]
  },
  {
   "cell_type": "code",
   "execution_count": 19,
   "metadata": {},
   "outputs": [
    {
     "name": "stdout",
     "output_type": "stream",
     "text": [
      "Solvation energy of ethanol in benzene in kcal/mol: -3.116283418975341\n"
     ]
    }
   ],
   "source": [
    "solvent_file = './../tests/COSMO_ORCA/benzene.orcacosmo'\n",
    "solute_file = './../tests/COSMO_ORCA/ethanol.orcacosmo'\n",
    "solute_gas_file = './../tests/COSMO_ORCA/ethanol.xyz'\n",
    "\n",
    "crs = COSMORS(par=openCOSMORS24a())\n",
    "\n",
    "def calculte_liquid_molar_volume_25C(spp):\n",
    "    spp.calculate_sigma_moments()\n",
    "\n",
    "    molecule_is_water = sorted(spp['atm_elmnt']) == ['H', 'H', 'O']\n",
    "\n",
    "    if molecule_is_water:\n",
    "        molar_volume_at_25C = 18.06863632\n",
    "    else:\n",
    "        area = spp['area']\n",
    "        second_sigma_moment = spp['sigma_moments'][2]\n",
    "        fourth_sigma_moment = spp['sigma_moments'][4]\n",
    "        number_of_atoms = spp['atm_nr'].size\n",
    "        number_of_Si_atoms = sum([1 for elmnt in spp['atm_elmnt'] if elmnt == 'Si'])\n",
    "\n",
    "        molar_volume_at_25C = 0.9430785419976806 * number_of_atoms \\\n",
    "                + 0.6977322963011842 * area \\\n",
    "                - 0.3161763939689293 * second_sigma_moment \\\n",
    "                + 0.032441059832647084 * fourth_sigma_moment \\\n",
    "                + 8.113026329415828 * number_of_Si_atoms \\\n",
    "                - 0.07066832029215675\n",
    "        \n",
    "        # ['number_of_atoms', 'sigma_moment_0', 'sigma_moment_2', 'sigma_moment_4', 'Si']\n",
    "        # R² = 0.9950179866321556\n",
    "\n",
    "    return molar_volume_at_25C / 1_000_000 # m³/mol\n",
    "\n",
    "def read_gas_phase_energy(gas_file):\n",
    "    with open(gas_file, 'r') as f:\n",
    "        return float(f.readlines()[1].split(':')[1])\n",
    "    \n",
    "def calculate_number_of_atoms_in_ring(gas_file):\n",
    "    mol = Chem.MolFromXYZFile(gas_file)\n",
    "    number_of_atoms_in_ring = 0\n",
    "    for a in mol.GetAtoms():\n",
    "        if a.IsInRing():\n",
    "            number_of_atoms_in_ring = number_of_atoms_in_ring + 1\n",
    "    return number_of_atoms_in_ring\n",
    "\n",
    "def calculate_dGsolvation(solute_file, solute_gas_file, solvent_file):\n",
    "    \n",
    "    kJ_per_kcal = 4.184  \n",
    "    kJdivmol_per_hartree = 2625.499639479 # (kJ/mol)/hartree\n",
    "\n",
    "    spp_solvent = SigmaProfileParser(solvent_file)\n",
    "    solvent_liquid_molar_volume_at_25C = calculte_liquid_molar_volume_25C(spp_solvent)\n",
    "\n",
    "    spp_solute = SigmaProfileParser(solute_file)\n",
    "\n",
    "    solute_E_gas = read_gas_phase_energy(solute_gas_file) # hartree/mol\n",
    "    solute_E_COSMO = spp_solute['energy_tot']/kJdivmol_per_hartree # hartree/mol\n",
    "    solute_E_diel = (solute_E_COSMO - solute_E_gas) * (kJdivmol_per_hartree/ kJ_per_kcal) # kcal/mol\n",
    "\n",
    "    solute_E_vdw = 0\n",
    "    taus = {int(k.split('_')[1]):v for k, v in crs.par.__dict__.items() if k.startswith('tau_')}\n",
    "\n",
    "    atom_atomic_numbers = np.array([periodic_table.GetAtomicNumber(v) for v in spp_solute['atm_elmnt']])\n",
    "    segment_atomic_numbers = atom_atomic_numbers[spp_solute['seg_atm_nr']]\n",
    "    for atomic_number, area in zip(segment_atomic_numbers, spp_solute['seg_area']):\n",
    "        solute_E_vdw += abs(taus[atomic_number]) * area\n",
    "\n",
    "    number_of_atoms_in_ring = calculate_number_of_atoms_in_ring(solute_gas_file)\n",
    "    E_ring_correction = number_of_atoms_in_ring * crs.par.omega_ring\n",
    "\n",
    "    T = 298.15 # this model was developed for values at 25 C only\n",
    "    RT = constants.R  * T /(kJ_per_kcal*1000) # kcal/mol\n",
    "\n",
    "    # openCOSMO-RS calculation\n",
    "    crs.clear_molecules()\n",
    "    crs.clear_jobs()\n",
    "    crs.add_molecule([solute_file])\n",
    "    crs.add_molecule([solvent_file])\n",
    "    crs.add_job(np.array([0, 1]), T, refst='cosmo')\n",
    "    results = crs.calculate()\n",
    "    \n",
    "    mu = RT * results['tot']['lng'][0][0]\n",
    "\n",
    "    reference_pressure = 101325 # Pa = 1 atm\n",
    "    molar_volume_ideal_gas = (constants.R  * T) / reference_pressure # m³/mol\n",
    "\n",
    "    reference_state_corrections = RT * np.log(molar_volume_ideal_gas / solvent_liquid_molar_volume_at_25C) # kcal/mol\n",
    "    solute_dG_solvation = solute_E_diel + mu - solute_E_vdw - E_ring_correction - reference_state_corrections - crs.par.eta # kcal/mol\n",
    "    \n",
    "    return solute_dG_solvation\n",
    "\n",
    "dGsolvation = calculate_dGsolvation(solute_file, solute_gas_file, solvent_file)\n",
    "# results might differe slightly from the version of the paper as\n",
    "# the implementation in python is slightly different from the one in c++\n",
    "# which was used in tha parameterization\n",
    "print('Solvation energy of ethanol in benzene in kcal/mol:', dGsolvation)\n"
   ]
  }
 ],
 "metadata": {
  "kernelspec": {
   "display_name": "openCOSMO_RS",
   "language": "python",
   "name": "python3"
  },
  "language_info": {
   "codemirror_mode": {
    "name": "ipython",
    "version": 3
   },
   "file_extension": ".py",
   "mimetype": "text/x-python",
   "name": "python",
   "nbconvert_exporter": "python",
   "pygments_lexer": "ipython3",
   "version": "3.12.4"
  }
 },
 "nbformat": 4,
 "nbformat_minor": 2
}