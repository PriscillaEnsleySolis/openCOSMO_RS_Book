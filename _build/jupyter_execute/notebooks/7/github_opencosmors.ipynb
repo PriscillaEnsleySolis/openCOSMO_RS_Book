{
 "cells": [
  {
   "cell_type": "markdown",
   "metadata": {},
   "source": [
    "# II. openCOSMO-RS\n",
    "<br>"
   ]
  },
  {
   "cell_type": "markdown",
   "metadata": {},
   "source": [
    "## 1. Github repository download  💡"
   ]
  },
  {
   "cell_type": "markdown",
   "metadata": {},
   "source": [
    "<div style=\"line-height: 1.5;\">\n",
    "\n",
    "You can find the repository [here](https://github.com/TUHH-TVT/openCOSMO-RS_py/tree/master)\n",
    "\n",
    "We follow the same steps as when we downloaded the conformer_pipeline program. The **Github address** is the only thing that changes:\n",
    "\n",
    "1. Open up the command prompt in you computer and go to a **specific directory** where you want your repository to be:\n",
    "    - **<span style=\"color:SteelBlue\"> cd \"C:\\Users\\xx\\xx\\\"</span>**\n",
    "\n",
    "2. Run the following command to download the repository:\n",
    "    - **<span style=\"color:SteelBlue\">git clone https://github.com/TUHH-TVT/openCOSMO-RS_py </span>** <br><br>\n",
    "\n",
    "3. We need to also install the package, in the command promt run the following line:\n",
    "    - **<span style=\"color:SteelBlue\">pip install git+https://github.com/TUHH-TVT/openCOSMO-RS_py</span>** <br><br>\n",
    "\n",
    "If you go to the specified address, you should se a new folder called \"openCOSMO-RS_py\"\n",
    "\n",
    "<div>"
   ]
  }
 ],
 "metadata": {
  "language_info": {
   "codemirror_mode": {
    "name": "ipython",
    "version": 3
   },
   "file_extension": ".py",
   "mimetype": "text/x-python",
   "name": "python",
   "nbconvert_exporter": "python",
   "pygments_lexer": "ipython3",
   "version": "3.12.4"
  }
 },
 "nbformat": 4,
 "nbformat_minor": 2
}