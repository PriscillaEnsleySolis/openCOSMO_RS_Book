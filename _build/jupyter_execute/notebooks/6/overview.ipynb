{
 "cells": [
  {
   "cell_type": "markdown",
   "metadata": {},
   "source": [
    "# 6.1 What is in our input file? 👀\n",
    "<br>"
   ]
  },
  {
   "cell_type": "markdown",
   "metadata": {},
   "source": [
    "If you go to the repository program, you should see that a new folder with the name of the molecule was created. For the example that we ran, the folder should be called \"water\". The following archives can be found:\n",
    "\n",
    "- **COSMO_TZVPD** folder\n",
    "\n",
    "- **energy_TZVPD** folder\n"
   ]
  },
  {
   "cell_type": "markdown",
   "metadata": {},
   "source": [
    "## 6.1.2 What is TZVPD ❓"
   ]
  },
  {
   "cell_type": "markdown",
   "metadata": {},
   "source": [
    "\n",
    "TZVPD stands for **Triple-Zeta Valence with Polarization and Diffuse functions**.  It is a type of **basis set** used in quantum chemistry calculations, in this case is used by the ORCA software. Basis sets are important in computational chemistry because they define the set of functions used to describe the electronic wave function of molecules. They are a collection of functions used to create and model the molecular orbitals of a system.\n",
    "\n",
    "<div style=\"line-height: 1.5;\">\n",
    "\n",
    "- **<span style=\"color:#BA55D3;\">Triple-Zeta (TZ):</span>** it means that **three** functions are used to describe each valence orbital, providing a more accurate representation compared to single-zeta or double-zeta basis sets. The valence orbitals are the outermost orbitals of an atom that are involved in chemical bonding. The different types of valence orbitals are s, p, d and sometimes f. \n",
    "\n",
    "- **<span style=\"color:#4682B4;\">Valence:</span>** it refers to the valence electrons\n",
    "\n",
    "- **<span style=\"color:#3CB371;\">Polarization (P):</span>** adds extra features to account for how the electron cloud is distorted by the molecular environment, improving the accuracy of the calculations.\n",
    "    - Think about a water molecule (H₂O). The oxygen atom has s and p orbitals that help it bond with hydrogen. When it forms bonds with hydrogen, the electron cloud around oxygen can become distorted. Adding polarization functions (e.g. d-type functions for oxygen) can help us model this distortion better.\n",
    "\n",
    "- **<span style=\"color:#DAA520;\">Diffuse (D):</span>** includes extra functions that are more spread out in space. These are important for accurately describing anions and systems with weakly bound electrons.\n",
    "    - Think about a chloride ion (Cl⁻). The extra electron in Cl⁻ is not as tightly bound as the electrons in a neutral chlorine atom. To describe this loosely bound electron correctly, we add special functions (e.g., additional s and p functions with larger exponents) to the basis set. This allows the basis set to capture the electron's extended distribution.\n",
    "\n",
    "You can find more about it in the [Orca documentation](https://sites.google.com/site/orcainputlibrary/basis-sets)\n",
    "\n",
    "<div>\n"
   ]
  },
  {
   "cell_type": "markdown",
   "metadata": {},
   "source": [
    "## 6.1.3 COSMO_TZVPD"
   ]
  },
  {
   "cell_type": "markdown",
   "metadata": {},
   "source": [
    "<div style=\"line-height: 1.5;\">\n",
    "\n",
    "Opening the folder we see two files: **water_c000** and **log_output**. The latter contains all details of the ORCA program and the steps taken to perform the necessary calculations to produce the *.orcacosmo* file.\n",
    "\n",
    "Let's analyze  what the *water_c000* file has:\n",
    "\n",
    "- **<span style=\"color:#DB7093;\">ENERGY:</span>** <br>\n",
    "This is the energy obtained with the CPCM calculations i.e. as an ideal conductor in a.u. (atomic units).\n",
    "\n",
    "- **<span style=\"color:#3CB371;\">DIPOLE MOMENT:</span>** <br>\n",
    "The values represent the x, y, and z components of the dipole moment vector. The dipole moment is defined as a vector quantity that quantifies the separation between positive and negative charges within a molecule.<br>\n",
    "\n",
    "- **<span style=\"color:#20B2AA;\">XYZ_FILE:</span>**<br>\n",
    "Coordinates form the ORCA job. Here we can see the number of atoms (for water = 3) and the cartesian coordinates (x,y,z) in Angstroms.<br>\n",
    "\n",
    "- **<span style=\"color:#CD853F;\">COSMO:</span>**<br>\n",
    "Molecule characteristics (no. of atoms, surface points), surface and epsilon function types (how the molecular surface is constructed for the COSMO calculations), the dielectric constant of the solvent, (measures the ability to reduce the electrostatic interactions between charged particles). Furthermore, we have the dielectric energy, (the total energy that we need to submerge our molecule from the gas phase to the CPCM phase)<br>\n",
    "\n",
    "- **<span style=\"color:#9370DB;\">Cartesian Coordinates, RADII and Atomic Number:</span>** <br>\n",
    "Cartesian coordinates in atomic units (a.u.), atomic radii, and atomic numbers for each atom in the molecule.<br>\n",
    "\n",
    "- **<span style=\"color:#FF6347;\">Surface points:</span>** <br>\n",
    "This section has the following columns\n",
    "    - 3D coordinates of the center of the area. \n",
    "    - the area of our segments\n",
    "    - the chemical potential of the segment\n",
    "    - w_leb, Switch_F and G_with are part of the ORCA algorithm to generate the position of the segments and its properties\n",
    "    - the indices of the atoms (for water, three atoms ∴ 0, 1, 2 )\n",
    "    <br><br>\n",
    "\n",
    "- **<span style=\"color:#BC8F8F;\">COSMO_corrected:</span>**  <br>\n",
    "Corrected values for the dielectric energy and the CPCM charges after distributing the molecule's charge between the cavities. A cavity is like a bubble surrounding the whole molecule. For some bigger atoms that have a higher charge, the electrons might be outside of the cavity, also known as outlying charge. To better represent how the molecule's electron distribution looks, ORCA implemented a correction where they distributed the outlying charge throughout the whole cavity <br>\n",
    "\n",
    "![before](4.png) ![after](5.png)\n",
    "\n",
    "\n",
    "\n",
    "- **<span style=\"color:#8B4513;\">Adjacency matrix:</span>**  <br>\n",
    "The connections between atoms of the molecule. Node 0 represents the oxygen atom and nodes 1 and 2 the two hydrogen atoms.\n",
    "\n",
    "<div>"
   ]
  },
  {
   "cell_type": "code",
   "execution_count": 1,
   "metadata": {},
   "outputs": [
    {
     "ename": "FileNotFoundError",
     "evalue": "[Errno 2] No such file or directory: 'C:\\\\Users\\\\prisc\\\\Desktop\\\\orcacosmo_files\\\\water\\\\COSMO_TZVPD\\\\water_c000.orcacosmo'",
     "output_type": "error",
     "traceback": [
      "\u001b[1;31m---------------------------------------------------------------------------\u001b[0m",
      "\u001b[1;31mFileNotFoundError\u001b[0m                         Traceback (most recent call last)",
      "Cell \u001b[1;32mIn[1], line 5\u001b[0m\n\u001b[0;32m      2\u001b[0m water_c000 \u001b[38;5;241m=\u001b[39m \u001b[38;5;124mr\u001b[39m\u001b[38;5;124m\"\u001b[39m\u001b[38;5;124mC:\u001b[39m\u001b[38;5;124m\\\u001b[39m\u001b[38;5;124mUsers\u001b[39m\u001b[38;5;124m\\\u001b[39m\u001b[38;5;124mprisc\u001b[39m\u001b[38;5;124m\\\u001b[39m\u001b[38;5;124mDesktop\u001b[39m\u001b[38;5;124m\\\u001b[39m\u001b[38;5;124morcacosmo_files\u001b[39m\u001b[38;5;124m\\\u001b[39m\u001b[38;5;124mwater\u001b[39m\u001b[38;5;124m\\\u001b[39m\u001b[38;5;124mCOSMO_TZVPD\u001b[39m\u001b[38;5;124m\\\u001b[39m\u001b[38;5;124mwater_c000.orcacosmo\u001b[39m\u001b[38;5;124m\"\u001b[39m\n\u001b[0;32m      4\u001b[0m \u001b[38;5;66;03m# Open and read the .orcacosmo file\u001b[39;00m\n\u001b[1;32m----> 5\u001b[0m \u001b[38;5;28;01mwith\u001b[39;00m \u001b[38;5;28;43mopen\u001b[39;49m\u001b[43m(\u001b[49m\u001b[43mwater_c000\u001b[49m\u001b[43m,\u001b[49m\u001b[43m \u001b[49m\u001b[38;5;124;43m'\u001b[39;49m\u001b[38;5;124;43mr\u001b[39;49m\u001b[38;5;124;43m'\u001b[39;49m\u001b[43m)\u001b[49m \u001b[38;5;28;01mas\u001b[39;00m file:\n\u001b[0;32m      6\u001b[0m     contents \u001b[38;5;241m=\u001b[39m file\u001b[38;5;241m.\u001b[39mread()\n\u001b[0;32m      8\u001b[0m \u001b[38;5;66;03m# Print the contents\u001b[39;00m\n",
      "File \u001b[1;32m~\\AppData\\Roaming\\Python\\Python312\\site-packages\\IPython\\core\\interactiveshell.py:324\u001b[0m, in \u001b[0;36m_modified_open\u001b[1;34m(file, *args, **kwargs)\u001b[0m\n\u001b[0;32m    317\u001b[0m \u001b[38;5;28;01mif\u001b[39;00m file \u001b[38;5;129;01min\u001b[39;00m {\u001b[38;5;241m0\u001b[39m, \u001b[38;5;241m1\u001b[39m, \u001b[38;5;241m2\u001b[39m}:\n\u001b[0;32m    318\u001b[0m     \u001b[38;5;28;01mraise\u001b[39;00m \u001b[38;5;167;01mValueError\u001b[39;00m(\n\u001b[0;32m    319\u001b[0m         \u001b[38;5;124mf\u001b[39m\u001b[38;5;124m\"\u001b[39m\u001b[38;5;124mIPython won\u001b[39m\u001b[38;5;124m'\u001b[39m\u001b[38;5;124mt let you open fd=\u001b[39m\u001b[38;5;132;01m{\u001b[39;00mfile\u001b[38;5;132;01m}\u001b[39;00m\u001b[38;5;124m by default \u001b[39m\u001b[38;5;124m\"\u001b[39m\n\u001b[0;32m    320\u001b[0m         \u001b[38;5;124m\"\u001b[39m\u001b[38;5;124mas it is likely to crash IPython. If you know what you are doing, \u001b[39m\u001b[38;5;124m\"\u001b[39m\n\u001b[0;32m    321\u001b[0m         \u001b[38;5;124m\"\u001b[39m\u001b[38;5;124myou can use builtins\u001b[39m\u001b[38;5;124m'\u001b[39m\u001b[38;5;124m open.\u001b[39m\u001b[38;5;124m\"\u001b[39m\n\u001b[0;32m    322\u001b[0m     )\n\u001b[1;32m--> 324\u001b[0m \u001b[38;5;28;01mreturn\u001b[39;00m \u001b[43mio_open\u001b[49m\u001b[43m(\u001b[49m\u001b[43mfile\u001b[49m\u001b[43m,\u001b[49m\u001b[43m \u001b[49m\u001b[38;5;241;43m*\u001b[39;49m\u001b[43margs\u001b[49m\u001b[43m,\u001b[49m\u001b[43m \u001b[49m\u001b[38;5;241;43m*\u001b[39;49m\u001b[38;5;241;43m*\u001b[39;49m\u001b[43mkwargs\u001b[49m\u001b[43m)\u001b[49m\n",
      "\u001b[1;31mFileNotFoundError\u001b[0m: [Errno 2] No such file or directory: 'C:\\\\Users\\\\prisc\\\\Desktop\\\\orcacosmo_files\\\\water\\\\COSMO_TZVPD\\\\water_c000.orcacosmo'"
     ]
    }
   ],
   "source": [
    "#⚠️⚠️⚠️\n",
    "water_c000 = r\"C:\\Users\\prisc\\Desktop\\orcacosmo_files\\water\\COSMO_TZVPD\\water_c000.orcacosmo\"\n",
    "\n",
    "# Open and read the .orcacosmo file\n",
    "with open(water_c000, 'r') as file:\n",
    "    contents = file.read()\n",
    "\n",
    "# Print the contents\n",
    "print(contents)"
   ]
  },
  {
   "cell_type": "markdown",
   "metadata": {},
   "source": [
    "## 6.1.4 energy_TZVPD  📂"
   ]
  },
  {
   "cell_type": "markdown",
   "metadata": {},
   "source": [
    "The folder contains an *xyz* file with the same name: water_c000:\n",
    "\n",
    "- **<span style=\"color:#9370DB;\">Number of Atoms</span>**: The first line 3 indicates that the number of atoms in our molecule\n",
    "\n",
    "- **<span style=\"color:#FF6347;\">Energy</span>**: The energy of the molecule in the gas phase\n",
    "\n",
    "- **<span style=\"color:#3CB371;\">Atomic Coordinates</span>**: atomic symbols and their Cartesian coordinates in space. Each line corresponds to an atom."
   ]
  },
  {
   "cell_type": "code",
   "execution_count": 2,
   "metadata": {},
   "outputs": [
    {
     "name": "stdout",
     "output_type": "stream",
     "text": [
      "3\n",
      "energy: -76.4684885136930035\n",
      "O  -0.0007809143160200  0.3969563993601200  0.0000000000000000\n",
      "H  -0.7671274283801700  -0.1999882198486500  0.0000000000000000\n",
      "H  0.7679083426961900  -0.1969681795114700  0.0000000000000000\n",
      "\n"
     ]
    }
   ],
   "source": [
    "# ⚠️⚠️⚠️\n",
    "energy = r\"C:\\Users\\prisc\\Desktop\\orcacosmo_files\\water\\energy_TZVPD\\water_c000.xyz\"\n",
    "# Open and read the .orcacosmo file\n",
    "with open(energy, 'r') as file:\n",
    "    contents = file.read()\n",
    "\n",
    "# Print the contents\n",
    "print(contents)"
   ]
  }
 ],
 "metadata": {
  "kernelspec": {
   "display_name": "openCOSMO_RS",
   "language": "python",
   "name": "python3"
  },
  "language_info": {
   "codemirror_mode": {
    "name": "ipython",
    "version": 3
   },
   "file_extension": ".py",
   "mimetype": "text/x-python",
   "name": "python",
   "nbconvert_exporter": "python",
   "pygments_lexer": "ipython3",
   "version": "3.12.4"
  }
 },
 "nbformat": 4,
 "nbformat_minor": 2
}